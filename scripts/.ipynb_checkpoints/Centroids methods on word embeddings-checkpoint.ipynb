{
 "cells": [
  {
   "cell_type": "code",
   "execution_count": 1,
   "metadata": {
    "collapsed": true
   },
   "outputs": [],
   "source": [
    "\n",
    "import numpy as np\n",
    "import pandas as pd\n",
    "import time\n",
    "import tqdm \n",
    "\n",
    "from scipy.spatial.distance import cosine"
   ]
  },
  {
   "cell_type": "code",
   "execution_count": 2,
   "metadata": {},
   "outputs": [
    {
     "name": "stdout",
     "output_type": "stream",
     "text": [
      "[nltk_data] Downloading package stopwords to\n",
      "[nltk_data]     C:\\Users\\zaiem\\AppData\\Roaming\\nltk_data...\n",
      "[nltk_data]   Package stopwords is already up-to-date!\n"
     ]
    },
    {
     "data": {
      "text/plain": [
       "True"
      ]
     },
     "execution_count": 2,
     "metadata": {},
     "output_type": "execute_result"
    }
   ],
   "source": [
    "from nltk.corpus import stopwords\n",
    "# ...  \n",
    "#filtered_words = list(filter(lambda word: word not in stopwords.words('english'), word_list))\n",
    "import nltk\n",
    "nltk.download('stopwords')\n"
   ]
  },
  {
   "cell_type": "code",
   "execution_count": 3,
   "metadata": {},
   "outputs": [
    {
     "name": "stderr",
     "output_type": "stream",
     "text": [
      "C:\\Anaconda3\\lib\\site-packages\\gensim\\utils.py:1167: UserWarning: detected Windows; aliasing chunkize to chunkize_serial\n",
      "  warnings.warn(\"detected Windows; aliasing chunkize to chunkize_serial\")\n"
     ]
    }
   ],
   "source": [
    "import gensim \n",
    "from gensim.models import Word2Vec"
   ]
  },
  {
   "cell_type": "code",
   "execution_count": 3,
   "metadata": {},
   "outputs": [
    {
     "name": "stdout",
     "output_type": "stream",
     "text": [
      "['How many calories are in a taco from taco villa ?\\n', 'What is italy s primary exports ?\\n']\n",
      "300000\n",
      "300000\n"
     ]
    },
    {
     "data": {
      "text/plain": [
       "['How can you shop online without a credit card in canada ',\n",
       " 'Most popular X men ',\n",
       " 'Akbar s 9 ratna ',\n",
       " 'Where is oil filter on 1994 protoge ',\n",
       " 'How do you beat the pink thing in pirate islant in poptropica ',\n",
       " 'What is the french name for dollar bills ',\n",
       " 'What are Molecules that are always moving randomly ',\n",
       " 'Are dolphins carnivore or ominvore ',\n",
       " 'Where was an apple found ',\n",
       " 'How many proteins in chick peas ']"
      ]
     },
     "execution_count": 3,
     "metadata": {},
     "output_type": "execute_result"
    }
   ],
   "source": [
    "with open(\"../src_medium_train.txt\", encoding=\"utf8\") as f:\n",
    "    src_questions = f.readlines()\n",
    "print(src_questions[-3:-1])\n",
    "src_questions = [i[0:-2] for i in src_questions]\n",
    "with open(\"../tgt_medium_train.txt\",encoding=\"utf8\" ) as f:\n",
    "    tgt_questions = f.readlines()\n",
    "tgt_questions = [i[0:-2] for i in tgt_questions]\n",
    "all_questions  = src_questions + tgt_questions\n",
    "print(len(tgt_questions))\n",
    "print(len(src_questions))\n",
    "src_questions[0:10]"
   ]
  },
  {
   "cell_type": "code",
   "execution_count": 6,
   "metadata": {
    "collapsed": true
   },
   "outputs": [],
   "source": [
    "with open(\"./src-test.txt\", encoding=\"utf8\") as f:\n",
    "    src_test = f.readlines()\n",
    "src_test = [i[0:-2] for i in src_test]"
   ]
  },
  {
   "cell_type": "code",
   "execution_count": 4,
   "metadata": {},
   "outputs": [
    {
     "data": {
      "text/html": [
       "<div>\n",
       "<style scoped>\n",
       "    .dataframe tbody tr th:only-of-type {\n",
       "        vertical-align: middle;\n",
       "    }\n",
       "\n",
       "    .dataframe tbody tr th {\n",
       "        vertical-align: top;\n",
       "    }\n",
       "\n",
       "    .dataframe thead th {\n",
       "        text-align: right;\n",
       "    }\n",
       "</style>\n",
       "<table border=\"1\" class=\"dataframe\">\n",
       "  <thead>\n",
       "    <tr style=\"text-align: right;\">\n",
       "      <th></th>\n",
       "      <th>Unnamed: 0</th>\n",
       "      <th>description</th>\n",
       "      <th>narrative</th>\n",
       "      <th>title</th>\n",
       "    </tr>\n",
       "  </thead>\n",
       "  <tbody>\n",
       "    <tr>\n",
       "      <th>0</th>\n",
       "      <td>0</td>\n",
       "      <td>Identify positive accomplishments of the Hubbl...</td>\n",
       "      <td>Documents are relevant that show the Hubble te...</td>\n",
       "      <td>Hubble Telescope Achievements</td>\n",
       "    </tr>\n",
       "    <tr>\n",
       "      <th>1</th>\n",
       "      <td>1</td>\n",
       "      <td>Identify hydroelectric projects proposed or un...</td>\n",
       "      <td>Relevant documents would contain as a minimum ...</td>\n",
       "      <td>New Hydroelectric Projects</td>\n",
       "    </tr>\n",
       "    <tr>\n",
       "      <th>2</th>\n",
       "      <td>2</td>\n",
       "      <td>Evidence that radio waves from radio towers or...</td>\n",
       "      <td>Persons living near radio towers and more rece...</td>\n",
       "      <td>Radio Waves and Brain Cancer</td>\n",
       "    </tr>\n",
       "    <tr>\n",
       "      <th>3</th>\n",
       "      <td>3</td>\n",
       "      <td>Commercial harvesting of marine vegetation suc...</td>\n",
       "      <td>Recent research has shown that marine vegetati...</td>\n",
       "      <td>Marine Vegetation</td>\n",
       "    </tr>\n",
       "    <tr>\n",
       "      <th>4</th>\n",
       "      <td>4</td>\n",
       "      <td>Isolate instances of fraud or embezzlement in ...</td>\n",
       "      <td>A relevant document is any report that identif...</td>\n",
       "      <td>International Art Crime</td>\n",
       "    </tr>\n",
       "  </tbody>\n",
       "</table>\n",
       "</div>"
      ],
      "text/plain": [
       "   Unnamed: 0                                        description  \\\n",
       "0           0  Identify positive accomplishments of the Hubbl...   \n",
       "1           1  Identify hydroelectric projects proposed or un...   \n",
       "2           2  Evidence that radio waves from radio towers or...   \n",
       "3           3  Commercial harvesting of marine vegetation suc...   \n",
       "4           4  Isolate instances of fraud or embezzlement in ...   \n",
       "\n",
       "                                           narrative  \\\n",
       "0  Documents are relevant that show the Hubble te...   \n",
       "1  Relevant documents would contain as a minimum ...   \n",
       "2  Persons living near radio towers and more rece...   \n",
       "3  Recent research has shown that marine vegetati...   \n",
       "4  A relevant document is any report that identif...   \n",
       "\n",
       "                            title  \n",
       "0   Hubble Telescope Achievements  \n",
       "1      New Hydroelectric Projects  \n",
       "2    Radio Waves and Brain Cancer  \n",
       "3               Marine Vegetation  \n",
       "4         International Art Crime  "
      ]
     },
     "execution_count": 4,
     "metadata": {},
     "output_type": "execute_result"
    }
   ],
   "source": [
    "elements = pd.read_csv(\"working.csv\")\n",
    "elements.head()"
   ]
  },
  {
   "cell_type": "code",
   "execution_count": 5,
   "metadata": {
    "collapsed": true
   },
   "outputs": [],
   "source": [
    "descriptions = elements[\"description\"].tolist()"
   ]
  },
  {
   "cell_type": "code",
   "execution_count": 25,
   "metadata": {
    "collapsed": true
   },
   "outputs": [],
   "source": [
    "with open(\"queries.txt\", encoding=\"utf8\", mode=\"w\") as q : \n",
    "    for i in descriptions : \n",
    "        q.write(i)\n",
    "        q.write(\"\\n\")"
   ]
  },
  {
   "cell_type": "code",
   "execution_count": 26,
   "metadata": {
    "collapsed": true
   },
   "outputs": [],
   "source": [
    "titles = elements[\"title\"].tolist()\n",
    "with open(\"titles.txt\", encoding=\"utf8\", mode=\"w\") as q : \n",
    "    for i in titles : \n",
    "        q.write(i)\n",
    "        q.write(\"\\n\")"
   ]
  },
  {
   "cell_type": "code",
   "execution_count": 6,
   "metadata": {
    "collapsed": true
   },
   "outputs": [],
   "source": [
    "from nltk import word_tokenize"
   ]
  },
  {
   "cell_type": "code",
   "execution_count": 7,
   "metadata": {},
   "outputs": [
    {
     "name": "stderr",
     "output_type": "stream",
     "text": [
      "100%|████████████████████████████████████████████████████████████████████████████████| 50/50 [00:00<00:00, 2168.25it/s]\n"
     ]
    }
   ],
   "source": [
    "tokenized_all_questions = [word_tokenize(descriptions[i]) for i in tqdm.tqdm(range(len(descriptions)))]"
   ]
  },
  {
   "cell_type": "code",
   "execution_count": 18,
   "metadata": {},
   "outputs": [
    {
     "ename": "Exception",
     "evalue": "fastText: Cannot load GoogleNews-vectors-negative300.bin due to C++ extension failed to allocate the memory",
     "output_type": "error",
     "traceback": [
      "\u001b[1;31m---------------------------------------------------------------------------\u001b[0m",
      "\u001b[1;31mRuntimeError\u001b[0m                              Traceback (most recent call last)",
      "\u001b[1;32mfasttext\\fasttext.pyx\u001b[0m in \u001b[0;36mfasttext.fasttext.load_model\u001b[1;34m()\u001b[0m\n",
      "\u001b[1;31mRuntimeError\u001b[0m: vector<T> too long",
      "\nDuring handling of the above exception, another exception occurred:\n",
      "\u001b[1;31mException\u001b[0m                                 Traceback (most recent call last)",
      "\u001b[1;32m<ipython-input-18-47b662594167>\u001b[0m in \u001b[0;36m<module>\u001b[1;34m()\u001b[0m\n\u001b[0;32m      1\u001b[0m \u001b[1;32mimport\u001b[0m \u001b[0mfasttext\u001b[0m\u001b[1;33m\u001b[0m\u001b[0m\n\u001b[1;32m----> 2\u001b[1;33m \u001b[0mmodel\u001b[0m \u001b[1;33m=\u001b[0m \u001b[0mfasttext\u001b[0m\u001b[1;33m.\u001b[0m\u001b[0mload_model\u001b[0m\u001b[1;33m(\u001b[0m\u001b[1;34m'GoogleNews-vectors-negative300.bin'\u001b[0m\u001b[1;33m)\u001b[0m\u001b[1;33m\u001b[0m\u001b[0m\n\u001b[0m",
      "\u001b[1;32mfasttext\\fasttext.pyx\u001b[0m in \u001b[0;36mfasttext.fasttext.load_model\u001b[1;34m()\u001b[0m\n",
      "\u001b[1;31mException\u001b[0m: fastText: Cannot load GoogleNews-vectors-negative300.bin due to C++ extension failed to allocate the memory"
     ]
    }
   ],
   "source": [
    "import fasttext\n",
    "model = fasttext.load_model('GoogleNews-vectors-negative300.bin')\n"
   ]
  },
  {
   "cell_type": "code",
   "execution_count": 8,
   "metadata": {
    "scrolled": true
   },
   "outputs": [
    {
     "name": "stdout",
     "output_type": "stream",
     "text": [
      "Wall time: 0 ns\n"
     ]
    }
   ],
   "source": [
    "%%time\n",
    "from gensim.models import KeyedVectors\n"
   ]
  },
  {
   "cell_type": "code",
   "execution_count": 9,
   "metadata": {},
   "outputs": [
    {
     "name": "stdout",
     "output_type": "stream",
     "text": [
      "Wall time: 44.7 s\n"
     ]
    }
   ],
   "source": [
    "%%time\n",
    "word_vectors = KeyedVectors.load_word2vec_format('./GoogleNews-vectors-negative300.bin', binary=True) "
   ]
  },
  {
   "cell_type": "code",
   "execution_count": 10,
   "metadata": {
    "collapsed": true
   },
   "outputs": [],
   "source": [
    "t = word_vectors.get_vector(\"world\")\n"
   ]
  },
  {
   "cell_type": "code",
   "execution_count": 11,
   "metadata": {
    "collapsed": true
   },
   "outputs": [],
   "source": [
    "query= \"what is the biggest country in Africa\""
   ]
  },
  {
   "cell_type": "code",
   "execution_count": 12,
   "metadata": {
    "collapsed": true
   },
   "outputs": [],
   "source": [
    "def get_query_cent(query): \n",
    "    tokens = word_tokenize(query)\n",
    "    centroid = [0] * 300\n",
    "    for i in tokens : \n",
    "        word_vector = word_vectors.get_vector(i).tolist()\n",
    "        for i in range(len(centroid)):\n",
    "            centroid[i] += word_vector[i]\n",
    "    return centroid\n",
    "        "
   ]
  },
  {
   "cell_type": "code",
   "execution_count": 13,
   "metadata": {},
   "outputs": [
    {
     "data": {
      "text/plain": [
       "[0.348724365234375,\n",
       " 0.37518310546875,\n",
       " 0.86669921875,\n",
       " 0.49951171875,\n",
       " -0.53076171875,\n",
       " -0.4132080078125,\n",
       " 0.0966796875,\n",
       " -1.15625,\n",
       " 0.394287109375,\n",
       " 0.3824462890625,\n",
       " 0.176513671875,\n",
       " -0.546875,\n",
       " 0.93988037109375,\n",
       " -0.066162109375,\n",
       " -0.27099609375,\n",
       " 0.49755859375,\n",
       " -0.21502685546875,\n",
       " 0.501220703125,\n",
       " -0.228271484375,\n",
       " -0.138671875,\n",
       " -0.006072998046875,\n",
       " 0.5329818725585938,\n",
       " -0.105712890625,\n",
       " -0.20529937744140625,\n",
       " 0.487396240234375,\n",
       " 0.2020263671875,\n",
       " -0.8979339599609375,\n",
       " 0.328369140625,\n",
       " 0.3327484130859375,\n",
       " 0.3221435546875,\n",
       " -0.055908203125,\n",
       " -0.1719970703125,\n",
       " -0.482177734375,\n",
       " 0.003326416015625,\n",
       " 0.1929779052734375,\n",
       " 0.23492431640625,\n",
       " -0.6435546875,\n",
       " -0.2027587890625,\n",
       " 0.7149658203125,\n",
       " 0.998046875,\n",
       " 0.25726318359375,\n",
       " -0.087158203125,\n",
       " -0.24688720703125,\n",
       " 0.44244384765625,\n",
       " 0.10504150390625,\n",
       " 0.8855743408203125,\n",
       " -0.2322998046875,\n",
       " 0.34722900390625,\n",
       " -0.1009521484375,\n",
       " 0.2477569580078125,\n",
       " 0.33416748046875,\n",
       " 0.18841552734375,\n",
       " -0.01715087890625,\n",
       " -0.191162109375,\n",
       " 0.175537109375,\n",
       " 0.32573699951171875,\n",
       " -0.6829833984375,\n",
       " -0.104339599609375,\n",
       " 0.19671630859375,\n",
       " -0.344329833984375,\n",
       " -0.20452880859375,\n",
       " 0.600830078125,\n",
       " -0.102783203125,\n",
       " -0.35009765625,\n",
       " 0.005126953125,\n",
       " -0.3096923828125,\n",
       " -0.0723876953125,\n",
       " 0.26959228515625,\n",
       " -0.199859619140625,\n",
       " 0.1484375,\n",
       " 0.2039794921875,\n",
       " 0.13018798828125,\n",
       " 0.59765625,\n",
       " 0.589569091796875,\n",
       " -0.26373291015625,\n",
       " -0.39227294921875,\n",
       " 0.5413818359375,\n",
       " 0.8060302734375,\n",
       " -0.4677734375,\n",
       " 0.909423828125,\n",
       " -0.071533203125,\n",
       " -0.99462890625,\n",
       " 0.15673828125,\n",
       " -0.216827392578125,\n",
       " -0.41302490234375,\n",
       " -0.7775192260742188,\n",
       " -0.566192626953125,\n",
       " 0.42822265625,\n",
       " -0.0523681640625,\n",
       " 0.50115966796875,\n",
       " 0.626220703125,\n",
       " -0.07177734375,\n",
       " -0.6340179443359375,\n",
       " -1.2059326171875,\n",
       " -0.414794921875,\n",
       " -0.792236328125,\n",
       " 0.512481689453125,\n",
       " -0.163818359375,\n",
       " 0.29205322265625,\n",
       " 0.316253662109375,\n",
       " -0.2352771759033203,\n",
       " 0.25726318359375,\n",
       " -0.07598876953125,\n",
       " -0.482330322265625,\n",
       " -1.13372802734375,\n",
       " 0.1682891845703125,\n",
       " -0.07904052734375,\n",
       " -0.42486572265625,\n",
       " -0.03509521484375,\n",
       " -0.337646484375,\n",
       " 0.3243408203125,\n",
       " -0.5087890625,\n",
       " -0.503173828125,\n",
       " 0.488800048828125,\n",
       " 0.3193359375,\n",
       " 0.29339599609375,\n",
       " 0.2352294921875,\n",
       " -0.56591796875,\n",
       " 0.7881622314453125,\n",
       " 0.240142822265625,\n",
       " -0.870391845703125,\n",
       " 0.06036376953125,\n",
       " -0.88037109375,\n",
       " 0.45635986328125,\n",
       " -0.251220703125,\n",
       " -0.13507080078125,\n",
       " -0.3465576171875,\n",
       " -0.4373779296875,\n",
       " -0.6742477416992188,\n",
       " -0.011474609375,\n",
       " -0.17364501953125,\n",
       " -0.4776611328125,\n",
       " -0.917724609375,\n",
       " -0.42919921875,\n",
       " 0.14981842041015625,\n",
       " -0.980712890625,\n",
       " 0.37042236328125,\n",
       " 0.052734375,\n",
       " -0.021728515625,\n",
       " 0.67913818359375,\n",
       " 0.734375,\n",
       " -0.5472412109375,\n",
       " 0.64263916015625,\n",
       " 0.339111328125,\n",
       " 0.08258056640625,\n",
       " 0.11376953125,\n",
       " 0.150390625,\n",
       " -0.113525390625,\n",
       " -0.011444091796875,\n",
       " -0.0094757080078125,\n",
       " 0.033233642578125,\n",
       " 0.33757781982421875,\n",
       " -0.23486328125,\n",
       " 0.419677734375,\n",
       " -0.0594482421875,\n",
       " -0.18048095703125,\n",
       " -0.59130859375,\n",
       " -0.54705810546875,\n",
       " 0.3466796875,\n",
       " -0.372314453125,\n",
       " -0.63916015625,\n",
       " 0.3970947265625,\n",
       " 0.06702423095703125,\n",
       " -0.3798828125,\n",
       " 0.41259765625,\n",
       " -0.0537109375,\n",
       " 0.603515625,\n",
       " -0.706573486328125,\n",
       " 0.47137451171875,\n",
       " 0.638671875,\n",
       " -0.715576171875,\n",
       " 0.195556640625,\n",
       " 0.4158935546875,\n",
       " -1.29443359375,\n",
       " -0.1978302001953125,\n",
       " -0.618408203125,\n",
       " 0.621337890625,\n",
       " -0.6318359375,\n",
       " 0.32275390625,\n",
       " -0.5527496337890625,\n",
       " -1.0240478515625,\n",
       " -0.712646484375,\n",
       " -0.387664794921875,\n",
       " -0.472808837890625,\n",
       " -0.1318359375,\n",
       " 0.4097900390625,\n",
       " -0.12383270263671875,\n",
       " 0.4794921875,\n",
       " 0.5421142578125,\n",
       " 0.9306640625,\n",
       " 0.4100341796875,\n",
       " -0.0899658203125,\n",
       " 0.284912109375,\n",
       " 0.2171630859375,\n",
       " -0.769775390625,\n",
       " 0.5692138671875,\n",
       " -0.254150390625,\n",
       " -0.063812255859375,\n",
       " -0.6807861328125,\n",
       " -1.26171875,\n",
       " 0.567535400390625,\n",
       " 0.238525390625,\n",
       " 0.11004638671875,\n",
       " -0.11419677734375,\n",
       " -0.418365478515625,\n",
       " 0.7149658203125,\n",
       " -0.1708984375,\n",
       " -0.242919921875,\n",
       " 0.105682373046875,\n",
       " 0.06015777587890625,\n",
       " -0.32147216796875,\n",
       " 0.47161865234375,\n",
       " -0.098297119140625,\n",
       " 0.579437255859375,\n",
       " -0.5428466796875,\n",
       " 0.1047210693359375,\n",
       " 0.36279296875,\n",
       " -0.2913818359375,\n",
       " -0.174072265625,\n",
       " 0.373046875,\n",
       " -0.04610443115234375,\n",
       " -0.025604248046875,\n",
       " -0.21498489379882812,\n",
       " -0.319091796875,\n",
       " 0.219970703125,\n",
       " -0.092041015625,\n",
       " 0.2193603515625,\n",
       " 0.179901123046875,\n",
       " 0.14599609375,\n",
       " 0.03598785400390625,\n",
       " -0.2301025390625,\n",
       " -0.056640625,\n",
       " 0.547119140625,\n",
       " 0.45849609375,\n",
       " 0.41217803955078125,\n",
       " 0.10504150390625,\n",
       " 0.01318359375,\n",
       " -0.269744873046875,\n",
       " -0.064239501953125,\n",
       " -0.399444580078125,\n",
       " 0.222686767578125,\n",
       " -0.59112548828125,\n",
       " 0.0633544921875,\n",
       " -0.303955078125,\n",
       " 0.53076171875,\n",
       " -0.4190673828125,\n",
       " 0.357666015625,\n",
       " -0.60931396484375,\n",
       " 0.163543701171875,\n",
       " -0.257568359375,\n",
       " 0.63702392578125,\n",
       " 0.0450439453125,\n",
       " 0.5732421875,\n",
       " 0.17132568359375,\n",
       " 0.86407470703125,\n",
       " -0.310302734375,\n",
       " 0.2139434814453125,\n",
       " 0.447998046875,\n",
       " -0.451904296875,\n",
       " -0.50787353515625,\n",
       " -0.288177490234375,\n",
       " -0.66845703125,\n",
       " 0.398193359375,\n",
       " 0.878173828125,\n",
       " 0.308837890625,\n",
       " 0.6119384765625,\n",
       " -0.439361572265625,\n",
       " -0.0799560546875,\n",
       " -0.5242919921875,\n",
       " 0.4041748046875,\n",
       " -0.1837158203125,\n",
       " 0.335205078125,\n",
       " 0.7018585205078125,\n",
       " 0.037353515625,\n",
       " -0.007232666015625,\n",
       " -0.2734375,\n",
       " -0.73406982421875,\n",
       " -0.60009765625,\n",
       " -0.510009765625,\n",
       " -0.489013671875,\n",
       " -0.035888671875,\n",
       " -0.5106048583984375,\n",
       " -0.0765380859375,\n",
       " 0.100830078125,\n",
       " 0.0045318603515625,\n",
       " -0.02630615234375,\n",
       " -0.3746337890625,\n",
       " -0.346435546875,\n",
       " -0.0211181640625,\n",
       " -0.0609130859375,\n",
       " -0.888916015625,\n",
       " -0.32403564453125,\n",
       " -0.83428955078125,\n",
       " 0.083740234375,\n",
       " -0.30859375,\n",
       " -0.07501220703125,\n",
       " -0.26226806640625,\n",
       " -0.289306640625,\n",
       " 0.56060791015625,\n",
       " -0.149658203125]"
      ]
     },
     "execution_count": 13,
     "metadata": {},
     "output_type": "execute_result"
    }
   ],
   "source": [
    "centroid = get_query_cent(query)\n",
    "centroid"
   ]
  },
  {
   "cell_type": "code",
   "execution_count": 14,
   "metadata": {
    "collapsed": true
   },
   "outputs": [],
   "source": [
    "def score_term(t, centroid):\n",
    "    t=word_vectors.get_vector(t).tolist()\n",
    "    return np.exp(1-cosine(t,centroid))\n",
    "    \n",
    "    "
   ]
  },
  {
   "cell_type": "code",
   "execution_count": 78,
   "metadata": {
    "collapsed": true
   },
   "outputs": [],
   "source": [
    "def similar_words( query ): \n",
    "    tokens = tokenizer(query)\n",
    "    words = []\n",
    "    for i in tokens : \n",
    "        similars = model.wv.most_similar(i)\n",
    "        for j in similars : \n",
    "            words.append(j[0])\n",
    "    return words"
   ]
  },
  {
   "cell_type": "code",
   "execution_count": 82,
   "metadata": {
    "collapsed": true
   },
   "outputs": [],
   "source": [
    "test = similar_words(query)"
   ]
  },
  {
   "cell_type": "code",
   "execution_count": 21,
   "metadata": {
    "collapsed": true
   },
   "outputs": [],
   "source": [
    "def give_scores_combsum(words, query):\n",
    "    c= get_query_cent(query)\n",
    "    tokens = tokenizer(query)\n",
    "    tokens = list(filter(lambda word: word not in stopwords.words('english'), tokens))\n",
    "    vectors = [model.wv.get_vector(t) for t in tokens ]\n",
    "    scores = []\n",
    "    for j in words : \n",
    "        score = 0 \n",
    "        for i in vectors : \n",
    "            score += np.exp(1-cosine(model.wv.get_vector(j),i ))\n",
    "        scores.append([j,score])\n",
    "    return scores "
   ]
  },
  {
   "cell_type": "code",
   "execution_count": 20,
   "metadata": {
    "collapsed": true
   },
   "outputs": [],
   "source": [
    "def give_scores_combmax(words, query) :\n",
    "    c= get_query_cent(query)\n",
    "    tokens = tokenizer(query)\n",
    "    tokens = list(filter(lambda word: word not in stopwords.words('english'), tokens))\n",
    "    vectors = [model.wv.get_vector(t) for t in tokens ]\n",
    "    scores = []\n",
    "    for j in words : \n",
    "        score = 500 \n",
    "        for i in vectors : \n",
    "            temp = np.exp(1-cosine(model.wv.get_vector(j),i ))\n",
    "            if temp <score :  ## we should check this one \n",
    "                score =tmp\n",
    "        scores.append([j,score])\n",
    "    return scores "
   ]
  },
  {
   "cell_type": "code",
   "execution_count": 84,
   "metadata": {
    "collapsed": true
   },
   "outputs": [],
   "source": [
    "tuple_scores  = give_scores_combsum(test,query)"
   ]
  },
  {
   "cell_type": "code",
   "execution_count": 87,
   "metadata": {},
   "outputs": [
    {
     "data": {
      "text/plain": [
       "[['europe', 10.574700941383536],\n",
       " ['europe', 10.574700941383536],\n",
       " ['Asia', 10.466483429952872],\n",
       " ['Ireland', 10.33892693032024],\n",
       " ['asia', 10.330619445129031],\n",
       " ['Europe', 10.318848172858925],\n",
       " ['Alaska', 10.232309205430203],\n",
       " ['alaska', 10.192617546191116],\n",
       " ['France', 10.109149089219352],\n",
       " ['africa', 10.099518572253261],\n",
       " ['hemisphere', 10.088402836754792],\n",
       " ['Pennsylvania', 10.085380362425457],\n",
       " ['province', 9.993243507887849],\n",
       " ['coutry', 9.949219883005412],\n",
       " ['te', 9.913510147566932],\n",
       " ['tallest', 9.831495153970454],\n",
       " ['nation', 9.799727860168906],\n",
       " ['teh', 9.79484319496202],\n",
       " ['teh', 9.79484319496202],\n",
       " ['th', 9.760479242819848],\n",
       " ['contry', 9.736034382670447],\n",
       " ['largest', 9.718910551469374],\n",
       " ['thr', 9.68475150060079],\n",
       " ['continent', 9.663200690341604],\n",
       " ['hottest', 9.586522345424092],\n",
       " ['counrty', 9.582746463885307],\n",
       " ['city', 9.566044005544626],\n",
       " ['longest', 9.559487465869811],\n",
       " ['Judaism', 9.554987388478123],\n",
       " ['tha', 9.464411197287829],\n",
       " ['tha', 9.464411197287829],\n",
       " ['smallest', 9.459216458271108],\n",
       " ['countries', 9.434870606525974],\n",
       " ['inthe', 9.409935893042292],\n",
       " ['oldest', 9.328601301645913],\n",
       " ['Whatwas', 9.27556023327119],\n",
       " ['Whats', 9.271566750684208],\n",
       " ['wich', 9.181316541964806],\n",
       " ['witch', 9.165363739751827],\n",
       " ['The', 9.121112443544588],\n",
       " ['heaviest', 9.116794676380712],\n",
       " ['isthe', 9.111093319268011],\n",
       " ['watermelons', 9.106856865749247],\n",
       " ['richest', 9.105196382439235],\n",
       " ['which', 8.89912668607073],\n",
       " ['today', 8.888876725337154],\n",
       " ['Arthropoda', 8.869962068162248],\n",
       " ['strongest', 8.861249753774715],\n",
       " ['diverticulosis', 8.813614933161587],\n",
       " ['photosynthesis', 8.81275567212586],\n",
       " ['religion', 8.753318679566899],\n",
       " ['si', 8.714104012423556],\n",
       " ['be', 8.616619492871218],\n",
       " ['fastest', 8.60914310998248],\n",
       " ['What', 8.5491650288597],\n",
       " ['Whay', 8.52508705395936],\n",
       " ['iz', 8.47987125368039],\n",
       " ['this', 8.387902627367104],\n",
       " ['describes', 8.177357082215146],\n",
       " ['ia', 8.132925672340521],\n",
       " ['around', 8.12193750319597],\n",
       " ['In', 8.0613400651038],\n",
       " ['hat', 7.922206117656382],\n",
       " ['during', 7.856258555533479],\n",
       " ['was', 7.8060149970751125],\n",
       " ['jalapenos', 7.685371354656379],\n",
       " ['are', 7.637773377924209],\n",
       " ['n', 7.589798196936469],\n",
       " ['on', 7.460484518431219],\n",
       " ['ina', 7.432667048332359]]"
      ]
     },
     "execution_count": 87,
     "metadata": {},
     "output_type": "execute_result"
    }
   ],
   "source": [
    "tuple_scores.sort(key=lambda x: x[1], reverse=True)\n",
    "tuple_scores"
   ]
  },
  {
   "cell_type": "code",
   "execution_count": 22,
   "metadata": {
    "collapsed": true
   },
   "outputs": [],
   "source": [
    "def enrich_queries_CombSum (query,model ): \n",
    "    words = similar_words(query)\n",
    "    tuple_scores = give_scores_combsum(words,query)\n",
    "    tuple_scores.sort(key=lambda x: x[1], reverse=True)\n",
    "    return [tuple_scores[i][0] for i in range(3)]\n"
   ]
  },
  {
   "cell_type": "code",
   "execution_count": 23,
   "metadata": {
    "collapsed": true
   },
   "outputs": [],
   "source": [
    "def enrich_queries_combMax (query, model ) : \n",
    "    words = similar_words(query)\n",
    "    tuple_scores = give_scores_combmax(words,query)\n",
    "    tuple_scores.sort(key=lambda x: x[1], reverse=True)\n",
    "    return [tuple_scores[i][0] for i in range(3)]\n"
   ]
  },
  {
   "cell_type": "code",
   "execution_count": 107,
   "metadata": {},
   "outputs": [
    {
     "data": {
      "text/plain": [
       "['buy', 'purchase', 'staff']"
      ]
     },
     "execution_count": 107,
     "metadata": {},
     "output_type": "execute_result"
    }
   ],
   "source": [
    "enrich_queries(\"where can i find a good restaurant \",model )"
   ]
  },
  {
   "cell_type": "markdown",
   "metadata": {},
   "source": [
    "## Centroid methods "
   ]
  },
  {
   "cell_type": "code",
   "execution_count": 24,
   "metadata": {
    "collapsed": true
   },
   "outputs": [],
   "source": [
    "def enrich_queries_centroids(query, model) : \n",
    "    centroid = get_query_cent(query)\n",
    "    words =similar_words(query)\n",
    "    scores = [[i,score_term(i,centroid)] for i in words]\n",
    "    scores.sort(key=lambda x: x[1], reverse=True)\n",
    "    return scores \n"
   ]
  },
  {
   "cell_type": "code",
   "execution_count": 110,
   "metadata": {},
   "outputs": [
    {
     "data": {
      "text/plain": [
       "[['free', 1.8890888209113617],\n",
       " ['yourself', 1.7752860895487952],\n",
       " ['cant', 1.761182223118025],\n",
       " ['pokemon', 1.7237433939515279],\n",
       " ['shiny', 1.7065207794480288],\n",
       " ['downlaod', 1.6977699764114365],\n",
       " ['someone', 1.6919065111990677],\n",
       " ['easy', 1.6561933883697564],\n",
       " ['somebody', 1.6493030266019262],\n",
       " ['cool', 1.6317747509388731],\n",
       " ['yo', 1.6313530215056955],\n",
       " ['me', 1.6147295712900733],\n",
       " ['latias', 1.6008557328798443],\n",
       " ['you', 1.5942611751018065],\n",
       " ['injected', 1.573143900045362],\n",
       " ['should', 1.5633944804854911],\n",
       " ['staff', 1.563050571522826],\n",
       " ['watch', 1.5574957132063956],\n",
       " ['draw', 1.5515222483377504],\n",
       " ['account', 1.5488634632035072],\n",
       " ['u', 1.5463810928457926],\n",
       " ['buy', 1.5453986624286984],\n",
       " ['could', 1.543704483200134],\n",
       " ['better', 1.5293995114844643],\n",
       " ['Can', 1.5245065251315468],\n",
       " ['catch', 1.5244930040582116],\n",
       " ['joint', 1.5198598154494003],\n",
       " ['purchase', 1.511163155234373],\n",
       " ['safe', 1.4871524343318514],\n",
       " ['healthy', 1.4777219297003894],\n",
       " ['might', 1.4652288657833654],\n",
       " ['see', 1.455206149867576],\n",
       " ['fossil', 1.455007406629139],\n",
       " ['an', 1.4536959434328218],\n",
       " ['would', 1.4509323243245311],\n",
       " ['must', 1.4465422322372488],\n",
       " ['I', 1.4422649996726808],\n",
       " ['tips', 1.44193043576768],\n",
       " ['illegal', 1.4276872843939932],\n",
       " ['broken', 1.4273494248817926],\n",
       " ['emergency', 1.4186876285117114],\n",
       " ['plastic', 1.4123126753893698],\n",
       " ['best', 1.4094006498761837],\n",
       " ['regular', 1.3987883836993487],\n",
       " ['You', 1.3981326371649536],\n",
       " ['small', 1.3824888357680654],\n",
       " ['required', 1.3787889009277228],\n",
       " ['Should', 1.371428305598073],\n",
       " ['invoice', 1.3697071219700252],\n",
       " ['Hwere', 1.3623705892681002],\n",
       " ['do', 1.3599968036257404],\n",
       " ['one', 1.3585299201460717],\n",
       " ['organizer', 1.3523376664346645],\n",
       " ['prosecutor', 1.3396143052165073],\n",
       " ['Wher', 1.3275100244638123],\n",
       " ['create', 1.3231062900476935],\n",
       " ['tesco', 1.3111417273737476],\n",
       " ['Where', 1.3078280400886637],\n",
       " ['ibm', 1.2954391984953966],\n",
       " ['will', 1.2821661258803312],\n",
       " ['petri', 1.279361473118597],\n",
       " ['figure', 1.2742101377644073],\n",
       " ['A', 1.2613606000119657],\n",
       " ['newspaper', 1.2504467076403287],\n",
       " ['hotel', 1.2370240108508737],\n",
       " ['airline', 1.2121215259611675],\n",
       " ['found', 1.1724987326477259],\n",
       " ['BFG', 1.1394482695615187],\n",
       " ['cousteau', 1.1316789417496473],\n",
       " ['continent', 1.1032031027497962]]"
      ]
     },
     "execution_count": 110,
     "metadata": {},
     "output_type": "execute_result"
    }
   ],
   "source": [
    "enrich_queries_centroids(\"where can i find a good restaurant\" ,model )"
   ]
  }
 ],
 "metadata": {
  "kernelspec": {
   "display_name": "Python 3",
   "language": "python",
   "name": "python3"
  },
  "language_info": {
   "codemirror_mode": {
    "name": "ipython",
    "version": 3
   },
   "file_extension": ".py",
   "mimetype": "text/x-python",
   "name": "python",
   "nbconvert_exporter": "python",
   "pygments_lexer": "ipython3",
   "version": "3.6.5"
  }
 },
 "nbformat": 4,
 "nbformat_minor": 2
}
